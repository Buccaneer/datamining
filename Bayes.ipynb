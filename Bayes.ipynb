{
 "cells": [
  {
   "cell_type": "code",
   "execution_count": 100,
   "id": "a696c440",
   "metadata": {},
   "outputs": [],
   "source": [
    "# packages\n",
    "\n",
    "import pandas as pd\n",
    "import numpy as np\n",
    "import random as random\n",
    "from sklearn.model_selection import train_test_split\n",
    "from sklearn.naive_bayes import CategoricalNB\n",
    "from sklearn.metrics import accuracy_score"
   ]
  },
  {
   "cell_type": "code",
   "execution_count": 101,
   "id": "e7e535bc",
   "metadata": {},
   "outputs": [],
   "source": [
    "# reading data, removing redundant columns\n",
    "\n",
    "data = pd.read_csv('existing-customers.csv', sep=';', na_values=[''])\n",
    "data = data.drop(columns = ['RowID', 'education-num'])\n",
    "X = data.drop(columns = ['class'])\n",
    "y = data[['class']]\n",
    "y = pd.get_dummies(y, drop_first=True)\n",
    "y = y['class_>50K']\n",
    "\n",
    "new_data = pd.read_csv('potential-customers.csv', sep=';', na_values=[''])\n",
    "new_data_ID = new_data['RowID']\n",
    "new_data = new_data.drop(columns = ['RowID', 'education-num'])\n",
    "X_new = new_data\n",
    "\n",
    "\n",
    "# make dictionary to transform categorical data to numeric\n",
    "cat_columns = X.select_dtypes(['object']).columns\n",
    "dictionaries = {}\n",
    "for column in cat_columns:\n",
    "    dictionary = {}\n",
    "    count = 0\n",
    "    for unique_value in X[column].unique():\n",
    "        dictionary[unique_value] = count\n",
    "        count += 1    \n",
    "    dictionaries[column] = dictionary\n",
    "    \n",
    "# transform categorical data to numeric    \n",
    "for column in cat_columns:\n",
    "    X[column] = X[column].map(dictionaries[column])\n",
    "    X_new[column] = X_new[column].map(dictionaries[column])\n",
    "X = pd.get_dummies(X, drop_first=True)\n",
    "\n",
    "\n",
    "# Split the dataset into train, val, and test sets\n",
    "X_train, X_val_test, y_train, y_val_test = train_test_split(X, y, test_size=0.3)\n",
    "X_val, X_test, y_val, y_test = train_test_split(X_val_test, y_val_test, test_size=0.5)\n",
    "\n",
    "# Split the train data into multiple subsets using bootstrap sampling\n",
    "n_subsets = 20\n",
    "customer_subsets = []\n",
    "for i in range(n_subsets):\n",
    "    subset_indices = np.random.choice(len(X_train), size=len(X_train), replace=True)\n",
    "    X_train_subset = X_train.iloc[subset_indices]\n",
    "    y_train_subset = y_train.iloc[subset_indices]\n",
    "    customer_subsets.append((X_train_subset, y_train_subset))\n"
   ]
  },
  {
   "cell_type": "code",
   "execution_count": 102,
   "id": "22d25a45",
   "metadata": {},
   "outputs": [],
   "source": [
    "# test which hyperparameters are best on validation set                                \n",
    "\n",
    "def build_bayes(alpha, validation):\n",
    "    # select a subset of the data for this bayes\n",
    "    subset = np.random.choice(len(customer_subsets), size=1)[0]\n",
    "    X_train_subset, y_train_subset = customer_subsets[subset]\n",
    "    # train bayes\n",
    "    bayes = CategoricalNB(force_alpha=True, alpha=alpha)\n",
    "    bayes.fit(X_train_subset, y_train_subset)\n",
    "    if validation:\n",
    "        # predict val with this bayes\n",
    "        val_predict = bayes.predict(X_val)\n",
    "        val_acc = accuracy_score(y_val, val_predict)\n",
    "        # return accuracy\n",
    "        return val_acc\n",
    "    else:\n",
    "        #return bayes\n",
    "        return bayes\n",
    "\n",
    "\n",
    "def param_testing(alphas):\n",
    "    best_acc = 0\n",
    "    for alpha in alphas:\n",
    "        val_acc = build_bayes(alpha, True) \n",
    "        if val_acc > best_acc:\n",
    "            best_alpha = alpha\n",
    "            best_acc = val_acc\n",
    "            print(f\"current best alpha: {best_alpha}, accuracy is {best_acc}\")\n",
    "    print(f\"\\n best alpha is: {best_alpha}, accuracy is {best_acc}\")\n",
    "    return best_alpha\n"
   ]
  },
  {
   "cell_type": "code",
   "execution_count": 103,
   "id": "95cbb688",
   "metadata": {},
   "outputs": [
    {
     "name": "stdout",
     "output_type": "stream",
     "text": [
      "current best alpha: 0.0001, accuracy is 0.8351760851760852\n",
      "current best alpha: 0.01, accuracy is 0.8355855855855856\n",
      "current best alpha: 0.1, accuracy is 0.8462325962325963\n",
      "current best alpha: 1, accuracy is 0.8527846027846028\n",
      "\n",
      " best alpha is: 1, accuracy is 0.8527846027846028\n"
     ]
    }
   ],
   "source": [
    "# testing which hyperparameters give best results (can be skipped: use best parameters given in next step)\n",
    "alphas = [0.0001, 0.001, 0.01, 0.1, 1, 10, 100, 1000, 10000] #alpha can't be zero or very close to zero\n",
    "\n",
    "best_alpha = param_testing(alphas)"
   ]
  },
  {
   "cell_type": "code",
   "execution_count": 104,
   "id": "f7d529b1",
   "metadata": {},
   "outputs": [],
   "source": [
    "# building bayes with the best found alpha\n",
    "bayes = build_bayes(best_alpha, False)"
   ]
  },
  {
   "cell_type": "code",
   "execution_count": 105,
   "id": "87a619b4",
   "metadata": {},
   "outputs": [
    {
     "name": "stdout",
     "output_type": "stream",
     "text": [
      "0.8524053224155578\n"
     ]
    }
   ],
   "source": [
    "# testing the acuracy of the selected bayes on test set\n",
    "test_predict = bayes.predict(X_test)\n",
    "test_acc = accuracy_score(y_test, test_predict)\n",
    "\n",
    "print(test_acc)"
   ]
  },
  {
   "cell_type": "code",
   "execution_count": 106,
   "id": "6cb88f00",
   "metadata": {},
   "outputs": [
    {
     "name": "stdout",
     "output_type": "stream",
     "text": [
      "amount of promos to send: 4655, with estimated profit: 233779.0201494613\n"
     ]
    }
   ],
   "source": [
    "# performing predictions on unseen data, and desciding which people to send promo to\n",
    "new_probability = bayes.predict_proba(X_new)[:,0]\n",
    "\n",
    "# Predicting the yield of sending promo, based on probabilities\n",
    "yield_if_sent = (1-new_probability)*980*0.1-new_probability*310*0.05-10\n",
    "# Desciding whether or not to send promo, based on yield\n",
    "send_promo = (yield_if_sent > 0).astype(bool)\n",
    "send_promo = pd.Series(send_promo)\n",
    "\n",
    "# Calculating total yield of sending promo to selected people\n",
    "profit_estimate = yield_if_sent[send_promo.values].sum()\n",
    "amount_to_send = send_promo.sum()\n",
    "print(f\"amount of promos to send: {amount_to_send}, with estimated profit: {profit_estimate}\")\n"
   ]
  },
  {
   "cell_type": "code",
   "execution_count": 107,
   "id": "24a1b0ea",
   "metadata": {},
   "outputs": [],
   "source": [
    "# Writing potential customer ID's and potential profit to text file\n",
    "\n",
    "# Selecting corresponding ID's\n",
    "sending_ID = new_data_ID[send_promo.values]\n",
    "# Calculating total yield of sending promo to selected ID's\n",
    "profit_estimate = yield_if_sent[send_promo.values].sum()\n",
    "\n",
    "#writing to text file\n",
    "with open('selected_customers_bayes.txt', 'w') as f:\n",
    "    f.write(f\"Potential profit estimate: \\n {str(profit_estimate)} \\n \\n ID's of potential customers to send promo to:\")\n",
    "    f.write('\\n'.join(sending_ID))"
   ]
  }
 ],
 "metadata": {
  "kernelspec": {
   "display_name": "Python 3 (ipykernel)",
   "language": "python",
   "name": "python3"
  },
  "language_info": {
   "codemirror_mode": {
    "name": "ipython",
    "version": 3
   },
   "file_extension": ".py",
   "mimetype": "text/x-python",
   "name": "python",
   "nbconvert_exporter": "python",
   "pygments_lexer": "ipython3",
   "version": "3.11.2"
  }
 },
 "nbformat": 4,
 "nbformat_minor": 5
}
